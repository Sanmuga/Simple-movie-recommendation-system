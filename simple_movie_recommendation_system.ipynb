{
  "nbformat": 4,
  "nbformat_minor": 0,
  "metadata": {
    "colab": {
      "provenance": [],
      "gpuType": "T4",
      "authorship_tag": "ABX9TyN8x87s75i15qvSZfSKCoeK",
      "include_colab_link": true
    },
    "kernelspec": {
      "name": "python3",
      "display_name": "Python 3"
    },
    "language_info": {
      "name": "python"
    },
    "accelerator": "GPU"
  },
  "cells": [
    {
      "cell_type": "markdown",
      "metadata": {
        "id": "view-in-github",
        "colab_type": "text"
      },
      "source": [
        "<a href=\"https://colab.research.google.com/github/Sanmuga/Simple-movie-recommendation-system/blob/main/simple_movie_recommendation_system.ipynb\" target=\"_parent\"><img src=\"https://colab.research.google.com/assets/colab-badge.svg\" alt=\"Open In Colab\"/></a>"
      ]
    },
    {
      "cell_type": "code",
      "source": [
        "pip install tensorflow"
      ],
      "metadata": {
        "id": "3Ba7G4EHBw2M"
      },
      "execution_count": null,
      "outputs": []
    },
    {
      "cell_type": "code",
      "source": [
        "pip install numpy"
      ],
      "metadata": {
        "id": "QYnaRnkmB1qX"
      },
      "execution_count": null,
      "outputs": []
    },
    {
      "cell_type": "code",
      "source": [
        "pip install pandas"
      ],
      "metadata": {
        "id": "Arb8lZdnB8Fk"
      },
      "execution_count": null,
      "outputs": []
    },
    {
      "cell_type": "code",
      "source": [
        "pip install scikit-learn"
      ],
      "metadata": {
        "id": "0lAo463hCB6u"
      },
      "execution_count": null,
      "outputs": []
    },
    {
      "cell_type": "code",
      "source": [
        "import numpy as np\n",
        "import pandas as pd\n",
        "import tensorflow as tf\n",
        "from sklearn.model_selection import train_test_split"
      ],
      "metadata": {
        "id": "2B9WTBt_CE-7"
      },
      "execution_count": null,
      "outputs": []
    },
    {
      "cell_type": "code",
      "source": [
        "# Load the dataset (assuming it's in CSV format)\n",
        "dataset_path = '/content/movies_data.csv'\n",
        "df = pd.read_csv(dataset_path)"
      ],
      "metadata": {
        "id": "Se1dU1U7J438"
      },
      "execution_count": null,
      "outputs": []
    },
    {
      "cell_type": "code",
      "source": [
        "# Preprocess the data\n",
        "user_ratings = df.pivot(index='user_id', columns='movie_id', values='rating')"
      ],
      "metadata": {
        "id": "GcU1rvQ6J-Dw"
      },
      "execution_count": null,
      "outputs": []
    },
    {
      "cell_type": "code",
      "source": [
        "# Fill any missing ratings with 0 (unrated)\n",
        "user_ratings = user_ratings.fillna(0)"
      ],
      "metadata": {
        "id": "F4FDT7A7KD9V"
      },
      "execution_count": null,
      "outputs": []
    },
    {
      "cell_type": "code",
      "source": [
        "# Convert the DataFrame to a NumPy array\n",
        "user_ratings = user_ratings.values"
      ],
      "metadata": {
        "id": "YOJbZmxaKGyQ"
      },
      "execution_count": null,
      "outputs": []
    },
    {
      "cell_type": "code",
      "source": [
        "# Split the data into training and testing sets\n",
        "train, test = train_test_split(user_ratings, test_size=0.3, random_state=42)"
      ],
      "metadata": {
        "id": "pCcGvTX7KMeg"
      },
      "execution_count": null,
      "outputs": []
    },
    {
      "cell_type": "code",
      "source": [
        "# Define the model architecture\n",
        "model = tf.keras.models.Sequential([\n",
        "    tf.keras.layers.Dense(64, activation='relu', input_shape=(user_ratings.shape[1],)),\n",
        "    tf.keras.layers.Dense(32, activation='relu'),\n",
        "    tf.keras.layers.Dense(user_ratings.shape[1], activation='sigmoid')\n",
        "])"
      ],
      "metadata": {
        "id": "OFphcjxHKRV2"
      },
      "execution_count": null,
      "outputs": []
    },
    {
      "cell_type": "code",
      "source": [
        "# Compile the model\n",
        "model.compile(optimizer='adam', loss='mse')"
      ],
      "metadata": {
        "id": "Rtx9TP0kKcV7"
      },
      "execution_count": null,
      "outputs": []
    },
    {
      "cell_type": "code",
      "source": [
        "# Train the model\n",
        "model.fit(train, train, epochs=50, batch_size=32)"
      ],
      "metadata": {
        "id": "xKudojw-KfK3"
      },
      "execution_count": null,
      "outputs": []
    },
    {
      "cell_type": "code",
      "source": [
        "# Evaluate the model\n",
        "mse = model.evaluate(test, test)\n",
        "print(\"Mean Squared Error on test set:\", mse)"
      ],
      "metadata": {
        "id": "eCcPuT_aKhd1"
      },
      "execution_count": null,
      "outputs": []
    },
    {
      "cell_type": "code",
      "source": [
        "# Make movie recommendations\n",
        "def get_movie_recommendations(user_id, top_n=3):\n",
        "    user_ratings = train[user_id]\n",
        "    unrated_movies = np.where(user_ratings == 0)[0]\n",
        "    predicted_ratings = model.predict(np.expand_dims(user_ratings, axis=0)).flatten()\n",
        "    sorted_indices = np.argsort(predicted_ratings)\n",
        "    top_indices = [i for i in sorted_indices if i in unrated_movies][-top_n:][::-1]\n",
        "    recommended_movies = top_indices\n",
        "    return recommended_movies"
      ],
      "metadata": {
        "id": "Z5r-1Hx5KkLd"
      },
      "execution_count": null,
      "outputs": []
    },
    {
      "cell_type": "code",
      "source": [
        "# to get recommendations for user with ID 0:\n",
        "recommended_movie_indices = get_movie_recommendations(user_id=25)\n",
        "print(\"Recommended movie indices:\", recommended_movie_indices)"
      ],
      "metadata": {
        "colab": {
          "base_uri": "https://localhost:8080/"
        },
        "id": "AFVo2oh9KnEA",
        "outputId": "18c7e7d9-f38e-428d-8bda-8db6fe02a0b7"
      },
      "execution_count": null,
      "outputs": [
        {
          "output_type": "stream",
          "name": "stdout",
          "text": [
            "1/1 [==============================] - 0s 30ms/step\n",
            "Recommended movie indices: [41, 38, 31]\n"
          ]
        }
      ]
    }
  ]
}